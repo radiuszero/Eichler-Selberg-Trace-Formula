{
 "cells": [
  {
   "cell_type": "markdown",
   "id": "9f46d8a6",
   "metadata": {},
   "source": [
    "Here are some preliminary definitions for some functions that we will use repeatedly. Recall that $\\psi(N)$ denotes the index of the subgroup $\\Gamma_0(N)$ inside $\\text{SL}_2(\\mathbb{Z})$."
   ]
  },
  {
   "cell_type": "code",
   "execution_count": 53,
   "id": "8abd4e87",
   "metadata": {},
   "outputs": [],
   "source": [
    "def psi(N): \n",
    "    return Gamma0(N).index();\n",
    "def extend_character(omega): \n",
    "    def omega_extended(n):\n",
    "        if n.is_integer():\n",
    "            return omega(n)\n",
    "        else:\n",
    "            return 0\n",
    "    return omega_extended"
   ]
  },
  {
   "cell_type": "markdown",
   "id": "ff361dcc",
   "metadata": {},
   "source": [
    "Recall that if $k > 2$, $\\chi(-1) = (-1)^k$ and $\\gcd(n, N) = 1$, the trace of $T_n$ on the space $S(N, k, \\chi)$ is given by $A_1 + A_2 + A_3$ where the individual terms are described below.\n",
    "We first compute the term $A_1$. It is given by\n",
    "$$ A_1 = n^{k/2 - 1}\\frac{k - 1}{12} \\psi(N) \\chi(n^{1/2}) $$"
   ]
  },
  {
   "cell_type": "code",
   "execution_count": 54,
   "id": "7dcee0c3",
   "metadata": {},
   "outputs": [],
   "source": [
    "def A1(n, k, N, chi):\n",
    "    chi_extended = extend_character(chi)\n",
    "    return pow(n, k/2 - 1) * (k - 1)/12 * psi(N) * chi_extended(sqrt(n))"
   ]
  },
  {
   "cell_type": "markdown",
   "id": "77679392",
   "metadata": {},
   "source": [
    "We then compute $A_2$. This term is equal to\n",
    "$$ A_2 = -\\frac{1}{2} \\sum_{t^2 < 4n} \\frac{\\rho^{k - 1} - \\bar{\\rho}^{k - 1}}{\\rho - \\bar{\\rho}} \\sum_m h_w \\left(\\frac{t^2 - 4n}{f^2}\\right)\\mu(t, m, n).$$"
   ]
  },
  {
   "cell_type": "code",
   "execution_count": 17,
   "id": "b40f7cab",
   "metadata": {},
   "outputs": [],
   "source": [
    "def mu(t, f, n, N, chi):\n",
    "    N_f = gcd(N, f)\n",
    "    \n",
    "    root_tuples = solve_mod([x^2 - t*x + n == 0], N*N_f)\n",
    "    roots_mod_N = []\n",
    "    for root_tuple in root_tuples:\n",
    "        if root_tuple[0] % N not in roots_mod_N:\n",
    "            roots_mod_N.append(root_tuple[0])\n",
    "    \n",
    "    char_sum = 0\n",
    "    for root in roots_mod_N:\n",
    "        if gcd(root, N) == 1:\n",
    "            char_sum += chi(root)\n",
    "    \n",
    "    return psi(N)/psi(N/N_f) * char_sum\n",
    "\n",
    "def wqfbclassno(D):\n",
    "    oclassno = pari(f'qfbclassno({D})')\n",
    "    if D == -4:\n",
    "        return oclassno/2\n",
    "    elif D == -3:\n",
    "        return oclassno/3\n",
    "    else:\n",
    "        return oclassno\n",
    "\n",
    "def A2(n, k, N, chi):\n",
    "    t_range = range(floor(-2*sqrt(n)) + 1, ceil(2*sqrt(n)))\n",
    "    t_sum = 0\n",
    "    for t in t_range:\n",
    "        f_range = []\n",
    "        for f in range(1, ceil(sqrt(4*n - t^2))):\n",
    "            if (t^2 - 4*n) % f^2 == 0:\n",
    "                if (t^2 - 4*n)/f^2 % 4 == 0 or (t^2 - 4*n)/f^2 % 4 == 1:\n",
    "                    f_range.append(f)\n",
    "        f_sum = 0\n",
    "        for f in f_range:\n",
    "            f_sum += wqfbclassno((t^2 - 4*n)/f^2) * mu(t, f, n, N, chi)\n",
    "        \n",
    "        qroots = solve([x^2 - t*x + n == 0], x, solution_dict = true)\n",
    "        rho0 = qroots[0][x]\n",
    "        rho1 = qroots[1][x]\n",
    "        \n",
    "        t_sum += (expand(rho0^(k - 1)) - expand(rho1^(k - 1)))/(rho0 - rho1) * f_sum\n",
    "    return (-1/2) * t_sum"
   ]
  },
  {
   "cell_type": "markdown",
   "id": "964bcb61",
   "metadata": {},
   "source": [
    "Finally, here is a computation of $A_3$ which is given by\n",
    "$$ -\\frac{1}{2}\\sum_{d|n} \\min(d, n/d)^{k - 1} \\sum_{c} \\varphi(\\gcd(\\tau, N/\\tau)))\\chi(y)$$\n",
    "and subsequently the trace formula."
   ]
  },
  {
   "cell_type": "code",
   "execution_count": 18,
   "id": "66f1d3a8",
   "metadata": {},
   "outputs": [],
   "source": [
    "def A3(n, k, N, chi):\n",
    "    d_range = divisors(n)\n",
    "    d_sum = 0\n",
    "    for d in d_range:\n",
    "        c_range = []\n",
    "        N_chi = chi.conductor()\n",
    "        for c in divisors(N):\n",
    "            if N/N_chi % gcd(c, N/c) == 0 and (n/d - d) % gcd(c, N/c) == 0:\n",
    "                c_range.append(c)\n",
    "                \n",
    "        c_sum = 0\n",
    "        for c in c_range:\n",
    "            y = crt([d, n/d], [c, N/c])\n",
    "            c_sum += euler_phi(gcd(N/c, c))*chi(y)\n",
    "            \n",
    "        d_sum += min(d, n/d)^(k - 1) * c_sum\n",
    "        \n",
    "    return -(1/2) * d_sum\n",
    "\n",
    "def trace_formula(n, k, N, chi):\n",
    "    return A1(n, k, N, chi) + A2(n, k, N, chi) + A3(n, k, N, chi)"
   ]
  },
  {
   "cell_type": "markdown",
   "id": "30e120ae",
   "metadata": {},
   "source": [
    "Here is an example calculation comparing the result from Sage with the result obtained by using the trace formula."
   ]
  },
  {
   "cell_type": "code",
   "execution_count": 55,
   "id": "f1d17c91",
   "metadata": {},
   "outputs": [
    {
     "name": "stdout",
     "output_type": "stream",
     "text": [
      "The trace as given by Sage is -24.\n",
      "Using the trace formula gives -24.\n"
     ]
    }
   ],
   "source": [
    "n = 5; k = 6; N = 35; chi = trivial_character(N);\n",
    "\n",
    "S = CuspForms(N, k)\n",
    "T = S.hecke_operator(n)\n",
    "print(f'The trace as given by Sage is {T.matrix().trace()}.')\n",
    "\n",
    "s = trace_formula(n, k, N, chi)\n",
    "print(f'Using the trace formula gives {s}.')\n"
   ]
  },
  {
   "cell_type": "code",
   "execution_count": null,
   "id": "19dc1645",
   "metadata": {},
   "outputs": [],
   "source": []
  }
 ],
 "metadata": {
  "kernelspec": {
   "display_name": "SageMath 10.3",
   "language": "sage",
   "name": "sagemath-10.3"
  },
  "language_info": {
   "codemirror_mode": {
    "name": "ipython",
    "version": 3
   },
   "file_extension": ".py",
   "mimetype": "text/x-python",
   "name": "python",
   "nbconvert_exporter": "python",
   "pygments_lexer": "ipython3",
   "version": "3.11.1"
  }
 },
 "nbformat": 4,
 "nbformat_minor": 5
}
